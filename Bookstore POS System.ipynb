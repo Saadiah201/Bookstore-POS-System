{
 "cells": [
  {
   "cell_type": "markdown",
   "metadata": {},
   "source": [
    "Based on Question 2, implement all queries and the ingestion/extraction process of Appendix A in Python."
   ]
  },
  {
   "cell_type": "markdown",
   "metadata": {},
   "source": [
    "Setup database connection through Microsoft SQL Server Management Studio"
   ]
  },
  {
   "cell_type": "code",
   "execution_count": 1,
   "metadata": {},
   "outputs": [
    {
     "name": "stdout",
     "output_type": "stream",
     "text": [
      "   id         name                    email            tel  \\\n",
      "0   1  Irfan Bakti     irfan88@example.com    +60123456789   \n",
      "1   2  Jack Smmith      jack.smmith@acme.io  +60132456781    \n",
      "2   3        Nazir                     None  +601185434012   \n",
      "3   4      Faiz Ma        faiz.ma@jholow.cn   +6019772002    \n",
      "4   5   Isham Rais        isham@pmo.gov.my   +60135482020    \n",
      "5   6  Shanon Teoh  shahnon.teoh@st.com.sg            None   \n",
      "\n",
      "           created_at          updated_at  \n",
      "0 2019-08-07 08:13:00 2019-08-07 08:13:00  \n",
      "1 2019-08-07 08:13:00 2019-08-07 08:13:00  \n",
      "2 2019-08-07 08:13:00 2019-08-07 08:13:00  \n",
      "3 2019-08-07 08:13:00 2019-08-07 08:13:00  \n",
      "4 2019-08-07 08:13:00 2019-08-07 08:13:00  \n",
      "5 2019-08-07 08:13:00 2019-08-07 08:13:00  \n",
      "<class 'pandas.core.frame.DataFrame'>\n"
     ]
    }
   ],
   "source": [
    "import pandas as pd\n",
    "import pyodbc \n",
    "\n",
    "conn = pyodbc.connect('Driver={SQL Server};'\n",
    "                      'Server=HYDRA016\\SQLEXPRESS01;'\n",
    "                      'Database=Bookstore POS System;'\n",
    "                      'Trusted_Connection=yes;')\n",
    "\n",
    "df = pd.read_sql_query('SELECT * FROM customers', conn)\n",
    "\n",
    "print(df)\n",
    "print(type(df))"
   ]
  },
  {
   "cell_type": "markdown",
   "metadata": {},
   "source": [
    "Convert the string parameters to the str type"
   ]
  },
  {
   "cell_type": "code",
   "execution_count": 2,
   "metadata": {},
   "outputs": [],
   "source": [
    "from six import string_types"
   ]
  },
  {
   "cell_type": "markdown",
   "metadata": {},
   "source": [
    "a.\tShow schema generation query"
   ]
  },
  {
   "cell_type": "code",
   "execution_count": 3,
   "metadata": {},
   "outputs": [
    {
     "name": "stdout",
     "output_type": "stream",
     "text": [
      "           schema_name  schema_id        schema_owner\n",
      "0       db_accessadmin      16385      db_accessadmin\n",
      "1    db_backupoperator      16389   db_backupoperator\n",
      "2        db_datareader      16390       db_datareader\n",
      "3        db_datawriter      16391       db_datawriter\n",
      "4          db_ddladmin      16387         db_ddladmin\n",
      "5    db_denydatareader      16392   db_denydatareader\n",
      "6    db_denydatawriter      16393   db_denydatawriter\n",
      "7             db_owner      16384            db_owner\n",
      "8     db_securityadmin      16386    db_securityadmin\n",
      "9                  dbo          1                 dbo\n",
      "10               guest          2               guest\n",
      "11  INFORMATION_SCHEMA          3  INFORMATION_SCHEMA\n",
      "12                 sys          4                 sys\n"
     ]
    }
   ],
   "source": [
    "data = pd.read_sql('''select s.name as schema_name, s.schema_id, u.name as schema_owner from sys.schemas s \n",
    "                    inner join sys.sysusers u on u.uid = s.principal_id order by s.name''', conn)\n",
    "print (data)"
   ]
  },
  {
   "cell_type": "markdown",
   "metadata": {},
   "source": [
    "b.\tShow the SQL query for number of customers purchasing more than 5 books"
   ]
  },
  {
   "cell_type": "code",
   "execution_count": 4,
   "metadata": {},
   "outputs": [
    {
     "name": "stdout",
     "output_type": "stream",
     "text": [
      "          name  total_qty\n",
      "0  Jack Smmith          6\n",
      "1  Shanon Teoh         11\n"
     ]
    }
   ],
   "source": [
    "data2 = pd.read_sql('''SELECT b.name, sum(a.[quantity]) AS total_qty FROM invoice_lines a,customers b, invoices c \n",
    "                    WHERE a.invoice_id=c.id AND b.id=c.customer_id GROUP BY name\n",
    "                    HAVING sum(a.[quantity]) > 5''', conn)\n",
    "print (data2)"
   ]
  },
  {
   "cell_type": "markdown",
   "metadata": {},
   "source": [
    "c.\tShow the SQL query for a list of customers who never purchased anything"
   ]
  },
  {
   "cell_type": "code",
   "execution_count": 5,
   "metadata": {},
   "outputs": [
    {
     "name": "stdout",
     "output_type": "stream",
     "text": [
      "         name  id\n",
      "0     Faiz Ma   4\n",
      "1  Isham Rais   5\n"
     ]
    }
   ],
   "source": [
    "data3 = pd.read_sql('''SELECT a.name, a.id from customers a \n",
    "                    LEFT JOIN invoices b  on a.id=b.customer_id WHERE b.id IS NULL''', conn)\n",
    "print (data3)"
   ]
  },
  {
   "cell_type": "markdown",
   "metadata": {},
   "source": [
    "d.\tShow the SQL query for list of book purchased with the users"
   ]
  },
  {
   "cell_type": "code",
   "execution_count": 6,
   "metadata": {},
   "outputs": [
    {
     "name": "stdout",
     "output_type": "stream",
     "text": [
      "          name  quantity description\n",
      "0  Irfan Bakti         1     Book #1\n",
      "1  Jack Smmith         4     Book #2\n",
      "2  Jack Smmith         1     Book #3\n",
      "3  Jack Smmith         1     Book #1\n",
      "4        Nazir         1     Book #1\n",
      "5        Nazir         1     Book #2\n",
      "6  Shanon Teoh         5     Book #1\n",
      "7  Shanon Teoh         6     Book #3\n"
     ]
    }
   ],
   "source": [
    "data4 = pd.read_sql('''SELECT b.name, a.quantity, a.[description]\n",
    "                    FROM invoice_lines a,customers b, invoices c \n",
    "                    WHERE a.invoice_id=c.id AND b.id=c.customer_id''', conn)\n",
    "print (data4)"
   ]
  },
  {
   "cell_type": "code",
   "execution_count": null,
   "metadata": {},
   "outputs": [],
   "source": []
  }
 ],
 "metadata": {
  "kernelspec": {
   "display_name": "Python 3",
   "language": "python",
   "name": "python3"
  },
  "language_info": {
   "codemirror_mode": {
    "name": "ipython",
    "version": 3
   },
   "file_extension": ".py",
   "mimetype": "text/x-python",
   "name": "python",
   "nbconvert_exporter": "python",
   "pygments_lexer": "ipython3",
   "version": "3.8.3"
  }
 },
 "nbformat": 4,
 "nbformat_minor": 4
}
